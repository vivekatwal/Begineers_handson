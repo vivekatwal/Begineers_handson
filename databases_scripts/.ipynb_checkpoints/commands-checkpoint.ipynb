{
 "cells": [
  {
   "cell_type": "code",
   "execution_count": null,
   "metadata": {
    "collapsed": true
   },
   "outputs": [],
   "source": [
    "# Get data to csv\n",
    "mysql -h *hostname* -P *port number* --database=*database_name* -u *username* -p -e *your SQL query* |\n",
    "sed 's/\\t/\",\"/g;s/^/\"/;s/$/\"/;s/\\n//g' > *output_file_name.csv\n",
    "\n",
    "\n",
    "mysql --user=username --password database name -e \"query\" |sed\"s/'/\\'/;s/\\t/\\\",\\\"/g;s/^/\\\"/;s/$/\\\"/;s/\\n//g\" > X.csv\n",
    "\n",
    "\n",
    "# put the query in file db_query.sql\n",
    "mysql -h host -P 3306 --database db_name -u user -p < db_query.sql  | sed 's/\\t/\",\"/g;s/^/\"/;s/$/\"/;s/\\n//g' > data.csv\n"
   ]
  },
  {
   "cell_type": "code",
   "execution_count": null,
   "metadata": {
    "collapsed": true
   },
   "outputs": [],
   "source": [
    "# set auto_increment to 1\n",
    "ALTER TABLE options_live.product_data AUTO_INCREMENT = 1\n",
    "\n",
    "# to drop unique key\n",
    "alter table options_live.product_data  drop index u_k;\n",
    "\n",
    "# to create composite unique key\n",
    "ALTER TABLE options_live.product_data ADD UNIQUE KEY u_k (product_url,date )\n",
    "\n",
    "# added more columns\n",
    "alter table product_data add column seller varchar(75) , add column size varchar(10) ,add column color varchar(30), add column  price int(10) ;\n",
    "\n",
    "# get data into csv from command line\n",
    "mysql -h localhost -P 3306 --database=options_live -u root -p -e \"query\" | sed 's/\\t/\",\"/g;s/^/\"/;s/$/\"/;s/\\n//g' > /home/scrapyftpuser/options_live_detail/data_in_csv/myntra.csv\n",
    "\n",
    "-- added more columns\n",
    "alter table product_data add column seller varchar(75) , add column size varchar(10) ,add column color varchar(30), add column  price int(10) ;\n"
   ]
  },
  {
   "cell_type": "code",
   "execution_count": null,
   "metadata": {
    "collapsed": true
   },
   "outputs": [],
   "source": [
    "\n",
    "# backup one table\n",
    "mysqldump -h 127.0.0.1  -u root -p  options_live links > links1.sql\n",
    "\n",
    "\n",
    "# backup of only database structue with no data\n",
    "mysqldump -d -u someuser -p mydatabase\n",
    "or\n",
    "mysqldump --no-data -u someuser -p mydatabase\n",
    "\n",
    "\n",
    "# Dumping the database structure for one table with no data\n",
    "mysqldump -d -u someuser -p mydatabase products\n",
    "\n",
    "\n",
    "# Dumping the database structure for several table with no data\n",
    "mysqldump -d -u someuser -p mydatabase products categories users\n",
    "\n",
    "\n",
    "\n",
    "# Dumping the structure to a file\n",
    "mysqldump -d -u someuser -p mydatabase > mydatabase.sql\n",
    "\n",
    "mysql -u someuser -p anotherdatabase < mydatabase.sql\n"
   ]
  },
  {
   "cell_type": "code",
   "execution_count": null,
   "metadata": {
    "collapsed": true
   },
   "outputs": [],
   "source": [
    "\n",
    "mysqldump -t -u [username] -p test mytable\n",
    "\n",
    "# If we only wanted to dump data from mytable in category_id 1, we would do this:\n",
    "mysqldump -t -u [username] -p test mytable --where=category_id=1\n",
    "or\n",
    "mysqldump -t -u [username] -p test mytable -wcategory_id=1\n",
    "\n",
    "\n",
    "# If you need to have spaces in the where query or other special shell characters (such as > and <) then you need to put quotes around the where clause like so:\n",
    "mysqldump -t -u [username] -p test mytable --where=\"category_id = 1\"\n",
    "OR\n",
    "mysqldump -t -u [username] -p test mytable -w\"category_id = 1\"\n",
    "\n",
    "\n",
    "# An example of dumping data from two tables using the same where clause could look like this, where we are selecting category_id from tables \"mytable\" and \"anothertable\":\n",
    "mysqldump -t -u [username] -p test mytable anothertable --where=\"category_id = 1\"\n",
    "\n",
    "\n",
    "\n",
    "\n",
    "\n",
    "\n",
    "\n",
    "\n",
    "\n",
    "\n",
    "\n"
   ]
  }
 ],
 "metadata": {
  "kernelspec": {
   "display_name": "Python [Root]",
   "language": "python",
   "name": "Python [Root]"
  },
  "language_info": {
   "codemirror_mode": {
    "name": "ipython",
    "version": 2
   },
   "file_extension": ".py",
   "mimetype": "text/x-python",
   "name": "python",
   "nbconvert_exporter": "python",
   "pygments_lexer": "ipython2",
   "version": "2.7.12"
  }
 },
 "nbformat": 4,
 "nbformat_minor": 0
}
